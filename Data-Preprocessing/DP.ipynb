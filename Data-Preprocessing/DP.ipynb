{
  "nbformat": 4,
  "nbformat_minor": 0,
  "metadata": {
    "colab": {
      "provenance": []
    },
    "kernelspec": {
      "name": "python3",
      "display_name": "Python 3"
    },
    "language_info": {
      "name": "python"
    }
  },
  "cells": [
    {
      "cell_type": "markdown",
      "source": [
        "# **Text Cleaning, Tokenization, and Data Merging Pipeline**\n",
        "\n",
        "### Description:\n",
        "This script processes two datasets—`scripts` and `final_summary`—by cleaning the text (removing special characters and extra spaces), tokenizing the summaries using the RoBERTa tokenizer, and merging them based on matching columns. The final output is saved to a new CSV file, combining the relevant information from both datasets for further analysis or model input."
      ],
      "metadata": {
        "id": "9qmtw7aGeJAN"
      }
    },
    {
      "cell_type": "code",
      "execution_count": null,
      "metadata": {
        "id": "HbjhmApDeG7d"
      },
      "outputs": [],
      "source": [
        "import pandas as pd\n",
        "import re\n",
        "from transformers import RobertaTokenizer\n",
        "\n",
        "# Load the datasets\n",
        "scripts = pd.read_csv('processed_scripts.csv')\n",
        "final_summary = pd.read_csv('final_summary.csv')\n",
        "\n",
        "# Drop unwanted columns\n",
        "scripts = scripts.drop(columns=[\"Unnamed: 0\"], errors='ignore')\n",
        "final_summary = final_summary.drop(columns=[\"Unnamed: 0\"], errors='ignore')\n",
        "\n",
        "# Function to clean text\n",
        "def clean_text(text):\n",
        "    # Remove special characters, digits, and multiple spaces\n",
        "    text = re.sub(r\"[^a-zA-Z0-9\\s]\", \"\", text)  # Keep alphanumeric and spaces\n",
        "    text = re.sub(r\"\\s+\", \" \", text)  # Remove extra spaces\n",
        "    text = text.strip()  # Remove leading and trailing spaces\n",
        "    return text\n",
        "\n",
        "# Apply cleaning to the 'final_summary' column\n",
        "final_summary['cleaned_summary'] = final_summary['final_summary'].apply(clean_text)\n",
        "\n",
        "# Initialize RoBERTa tokenizer\n",
        "tokenizer = RobertaTokenizer.from_pretrained('roberta-base')\n",
        "\n",
        "# Tokenize cleaned summaries\n",
        "tokenized_data = final_summary['cleaned_summary'].apply(\n",
        "    lambda x: tokenizer(\n",
        "        x,\n",
        "        padding='max_length',\n",
        "        truncation=True,\n",
        "        max_length=512,\n",
        "        return_tensors=\"pt\"\n",
        "    )\n",
        ")\n",
        "\n",
        "# Extract and store token IDs and attention masks\n",
        "final_summary['input_ids'] = tokenized_data.apply(lambda x: x['input_ids'].squeeze().tolist())\n",
        "final_summary['attention_mask'] = tokenized_data.apply(lambda x: x['attention_mask'].squeeze().tolist())\n",
        "\n",
        "# Tokenize text and extract tokens\n",
        "def tokenize_text(text):\n",
        "    tokens = tokenizer.tokenize(text)  # Tokenize text into subwords\n",
        "    return tokens\n",
        "\n",
        "# Create a new column 'processed_final_summary' with tokenized text\n",
        "final_summary['processed_final_summary'] = final_summary['final_summary'].apply(tokenize_text)\n",
        "\n",
        "# Save the processed final summary to a CSV file\n",
        "final_summary.to_csv('processed_final_summary.csv', index=False)\n",
        "\n",
        "# Merge the scripts and final_summary DataFrames on the appropriate columns\n",
        "merged_df = pd.merge(\n",
        "    scripts,\n",
        "    final_summary,\n",
        "    left_on=\"Movie Name\",  # Key from the first dataset\n",
        "    right_on=\"film_id\",    # Key from the second dataset\n",
        "    how=\"outer\"            # Full join\n",
        ")\n",
        "\n",
        "# Check the merged DataFrame\n",
        "print(merged_df)\n",
        "\n",
        "# Save to CSV if needed\n",
        "merged_df.to_csv('merged_dataset.csv', index=False)\n",
        "\n",
        "# Check for missing values in the merged dataset\n",
        "missing_values = merged_df.isnull().sum()\n",
        "print(missing_values)\n"
      ]
    }
  ]
}