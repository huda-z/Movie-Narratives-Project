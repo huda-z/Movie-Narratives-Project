{
  "nbformat": 4,
  "nbformat_minor": 0,
  "metadata": {
    "colab": {
      "provenance": [],
      "machine_shape": "hm",
      "gpuType": "T4"
    },
    "kernelspec": {
      "name": "python3",
      "display_name": "Python 3"
    },
    "language_info": {
      "name": "python"
    },
    "accelerator": "GPU"
  },
  "cells": [
    {
      "cell_type": "markdown",
      "source": [
        "# Geocoding and Location Details Extraction from Movie Data\n",
        "\n",
        "\n",
        "\n",
        "\n",
        "\n",
        "\n"
      ],
      "metadata": {
        "id": "S0igPir-vIia"
      }
    },
    {
      "cell_type": "markdown",
      "source": [
        "\n",
        "\n",
        "The provided code outlines a process for extracting geographic details from location names in a dataset using geocoding services. Here's a breakdown of each part of the script:\n",
        "\n",
        "1. **Geolocator Initialization**:\n",
        "   - A geolocator instance is created using the `Nominatim` geocoding service from the `geopy` library. The `user_agent` parameter is set to \"geopy_app\" to identify the application making the request.\n",
        "\n",
        "2. **Function to Clean Location Names**:\n",
        "   - The `clean_location_name` function is designed to preprocess location names. It:\n",
        "     - Strips any leading or trailing whitespace.\n",
        "     - Removes non-alphabetical characters (except spaces and commas).\n",
        "     - Removes any occurrences of \"##\" and extra spaces, ensuring clean input for geocoding.\n",
        "\n",
        "3. **Function to Fetch Location Details**:\n",
        "   - The `get_location_details` function takes a location name and attempts to retrieve its geographic details (neighborhood, city, region, country).\n",
        "     - It first checks if the location name is not empty or just whitespace.\n",
        "     - It cleans the location name using the `clean_location_name` function.\n",
        "     - It uses the geolocator to fetch the geographic data with a timeout of 10 seconds.\n",
        "     - If successful, it extracts details like neighborhood, city, region, and country from the returned data.\n",
        "     - If an error occurs (e.g., due to an invalid location), the function prints the error and returns `None` for all details.\n",
        "\n",
        "4. **Batch Processing Function**:\n",
        "   - The `process_batch` function processes a batch of rows from the DataFrame (`df_batch`). For each row:\n",
        "     - It retrieves a list of locations extracted by spaCy (assumed to be stored in the column `spacy_extracted_locations`).\n",
        "     - It cleans each location name using the `clean_location_name` function and performs geocoding for each location.\n",
        "     - For each location, it appends the corresponding geographic details (neighborhood, city, region, country) to respective lists.\n",
        "     - It also tracks whether the geocoding was successful for all locations in the batch.\n",
        "     - A delay of 1 second (`time.sleep(1)`) is included between API calls to avoid overwhelming the geocoding service.\n",
        "\n",
        "5. **Test Sample and Processing**:\n",
        "   - A test sample of the DataFrame is loaded, with the first 6000 rows selected (`df.head(6000)`).\n",
        "   - The `process_batch` function is then called to process the sample and extract geographic details for each location.\n",
        "\n",
        "6. **Updating the DataFrame**:\n",
        "   - After processing, the results are used to populate new columns in the DataFrame:\n",
        "     - `neighbourhood`, `city`, `region`, `country`, and `geocoding_success` (indicating whether the geocoding was successful for the batch).\n",
        "   - The updated DataFrame is saved to a CSV file named `test_location_details.csv`.\n",
        "\n",
        "Finally, the script prints a message indicating that the processing is complete and the results have been saved."
      ],
      "metadata": {
        "id": "czKDslTdvD_A"
      }
    },
    {
      "cell_type": "code",
      "execution_count": null,
      "metadata": {
        "id": "8ApOozlg_dg2"
      },
      "outputs": [],
      "source": [
        "import pandas as pd\n",
        "import time\n",
        "import requests\n",
        "from geopy.geocoders import Nominatim\n",
        "from tqdm import tqdm  # For the progress bar\n",
        "import re  # For cleaning the location strings"
      ]
    },
    {
      "cell_type": "code",
      "source": [
        "df = pd.read_csv('/content/13k_finalsummary.csv')"
      ],
      "metadata": {
        "id": "ZzfN43en_mCv"
      },
      "execution_count": null,
      "outputs": []
    },
    {
      "cell_type": "code",
      "source": [
        "# Initialize geolocator\n",
        "geolocator = Nominatim(user_agent=\"geopy_app\")\n",
        "\n",
        "# Function to clean location names\n",
        "def clean_location_name(location):\n",
        "    location = location.strip()  # Remove leading/trailing whitespace\n",
        "    location = re.sub(r'[^a-zA-Z\\s,]', '', location)  # Keep letters, spaces, commas\n",
        "    location = location.replace(\"##\", \"\").strip()  # Remove \"##\" and extra spaces\n",
        "    return ' '.join(location.split())\n",
        "\n",
        "# Function to fetch location details with error handling\n",
        "def get_location_details(location):\n",
        "    if not location or location.strip() == \"\":\n",
        "        return None, None, None, None\n",
        "\n",
        "    cleaned_location = clean_location_name(location)\n",
        "\n",
        "    try:\n",
        "        location_data = geolocator.geocode(\n",
        "            cleaned_location, addressdetails=True, language='en', timeout=10\n",
        "        )\n",
        "        if location_data:\n",
        "            details = location_data.raw.get(\"address\", {})\n",
        "            neighborhood = details.get(\"neighborhood\")\n",
        "            city = details.get(\"city\", details.get(\"town\", details.get(\"village\")))\n",
        "            region = details.get(\"state\")\n",
        "            country = details.get(\"country\")\n",
        "            return neighborhood, city, region, country\n",
        "    except Exception as e:\n",
        "        print(f\"Error for location '{cleaned_location}': {e}\")\n",
        "    return None, None, None, None\n",
        "\n",
        "# Batch processing function\n",
        "def process_batch(df_batch):\n",
        "    results = []\n",
        "    for _, row in tqdm(df_batch.iterrows(), total=len(df_batch), desc=\"Processing Batch\"):\n",
        "        locations = row[\"spacy_extracted_locations\"]\n",
        "        location_list = [clean_location_name(loc) for loc in locations.split(\",\")]\n",
        "\n",
        "        neighborhood_list, city_list, region_list, country_list = [], [], [], []\n",
        "        for location in location_list:\n",
        "            neighborhood, city, region, country = get_location_details(location)\n",
        "            neighborhood_list.append(neighborhood or \"\")\n",
        "            city_list.append(city or \"\")\n",
        "            region_list.append(region or \"\")\n",
        "            country_list.append(country or \"\")\n",
        "            time.sleep(1)  # To avoid overloading the geocoding API\n",
        "\n",
        "        results.append(\n",
        "            {\n",
        "                \"neighbourhood\": \"; \".join(neighborhood_list),\n",
        "                \"city\": \"; \".join(city_list),\n",
        "                \"region\": \"; \".join(region_list),\n",
        "                \"country\": \"; \".join(country_list),\n",
        "                \"geocoding_success\": \"success\" if all(\n",
        "                    [neighborhood_list, city_list, region_list, country_list]\n",
        "                ) else \"fail\",\n",
        "            }\n",
        "        )\n",
        "    return results\n",
        "\n",
        "# Load a test sample of 100 rows\n",
        "test_df = df.head(6000).copy()\n",
        "\n",
        "# Process the batch and update the DataFrame\n",
        "results = process_batch(test_df)\n",
        "\n",
        "# Extract results and assign to columns\n",
        "test_df[\"neighbourhood\"] = [res[\"neighbourhood\"] for res in results]\n",
        "test_df[\"city\"] = [res[\"city\"] for res in results]\n",
        "test_df[\"region\"] = [res[\"region\"] for res in results]\n",
        "test_df[\"country\"] = [res[\"country\"] for res in results]\n",
        "test_df[\"geocoding_success\"] = [res[\"geocoding_success\"] for res in results]\n",
        "\n",
        "# Save results to a CSV\n",
        "test_df.to_csv(\"test_location_details.csv\", index=False)\n",
        "\n",
        "print(\"Test processing complete. Results saved to 'test_location_details.csv'\")\n"
      ],
      "metadata": {
        "colab": {
          "base_uri": "https://localhost:8080/"
        },
        "id": "XbQ3pBy1_tv-",
        "outputId": "6f911175-3fc9-4c8a-9973-5a572b63edec"
      },
      "execution_count": null,
      "outputs": [
        {
          "output_type": "stream",
          "name": "stderr",
          "text": [
            "Processing Batch:  23%|██▎       | 1369/6000 [53:23<3:16:25,  2.54s/it]"
          ]
        }
      ]
    }
  ]
}